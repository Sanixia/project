{
 "cells": [
  {
   "cell_type": "code",
   "execution_count": 81,
   "id": "943b098b",
   "metadata": {},
   "outputs": [],
   "source": [
    "import pandas as pd"
   ]
  },
  {
   "cell_type": "code",
   "execution_count": 82,
   "id": "adb18cad",
   "metadata": {},
   "outputs": [
    {
     "name": "stdout",
     "output_type": "stream",
     "text": [
      "First few rows of the dataset:\n",
      "   race_year_id                    event            race         city  \\\n",
      "0         68140     Peak District Ultras   Millstone 100    Castleton   \n",
      "1         72496                    UTMB®           UTMB®     Chamonix   \n",
      "2         69855  Grand Raid des Pyrénées  Ultra Tour 160  vielle-Aure   \n",
      "3         67856            Persenk Ultra   PERSENK ULTRA   Asenovgrad   \n",
      "4         70469  Runfire Salt Lake Ultra        100 Mile     ulukisla   \n",
      "\n",
      "          country        date start_time participation  distance  \\\n",
      "0  United Kingdom  2021-09-03   19:00:00          solo     166.9   \n",
      "1          France  2021-08-27   17:00:00          Solo     170.7   \n",
      "2          France  2021-08-20   05:00:00          solo     167.0   \n",
      "3        Bulgaria  2021-08-20   18:00:00          solo     164.0   \n",
      "4          Turkey  2021-08-20   18:00:00          solo     159.9   \n",
      "\n",
      "   elevation_gain  elevation_loss  aid_stations  participants  \n",
      "0            4520           -4520            10           150  \n",
      "1            9930           -9930            11          2300  \n",
      "2            9980           -9980            13           600  \n",
      "3            7490           -7500            13           150  \n",
      "4             100            -100            12             0  \n",
      "First few rows of the dataset:\n",
      "   race_year_id  rank            runner         time  age gender nationality  \\\n",
      "0         68140   1.0    VERHEUL Jasper  26H 35M 25S   30      M         GBR   \n",
      "1         68140   2.0      MOULDING JON   27H 0M 29S   43      M         GBR   \n",
      "2         68140   3.0  RICHARDSON Phill   28H 49M 7S   38      M         GBR   \n",
      "3         68140   4.0       DYSON Fiona  30H 53M 37S   55      W         GBR   \n",
      "4         68140   5.0   FRONTERAS Karen  32H 46M 21S   48      W         GBR   \n",
      "\n",
      "   time_in_seconds  \n",
      "0          95725.0  \n",
      "1          97229.0  \n",
      "2         103747.0  \n",
      "3         111217.0  \n",
      "4         117981.0  \n"
     ]
    }
   ],
   "source": [
    "\n",
    "df = pd.read_csv(\"race.csv\")\n",
    "df_2 = pd.read_csv(\"ultra_rankings.csv\", na_values=[\"NA\"])\n",
    "\n",
    "\n",
    "# 1. View the data\n",
    "print(\"First few rows of the dataset:\")\n",
    "print(df.head())\n",
    "\n",
    "print(\"First few rows of the dataset:\")\n",
    "print(df_2.head())\n",
    "\n",
    "\n"
   ]
  },
  {
   "cell_type": "code",
   "execution_count": 65,
   "id": "3a500ad4",
   "metadata": {},
   "outputs": [],
   "source": [
    "# Get rid of distance rows that contain 0 for distance\n",
    "# clean_df = df[df['distance'] > 0]\n",
    "# there are participants in this race in the other csv file (like 64771 race_year_id) yet show 0 participants so must be errors"
   ]
  },
  {
   "cell_type": "code",
   "execution_count": 83,
   "id": "2c81fdbc",
   "metadata": {},
   "outputs": [],
   "source": [
    "# Replace these columns containing NA with 0 (to represent not completed run)\n",
    "clean_df2 = df_2.copy()\n",
    "clean_df2.fillna(0, inplace=True)"
   ]
  },
  {
   "cell_type": "code",
   "execution_count": 84,
   "id": "03b5f832",
   "metadata": {},
   "outputs": [],
   "source": [
    "# This is when participants are 0 in race.csv but there are still participants in the other file so need to correct it\n",
    "participant_counts = clean_df2['race_year_id'].value_counts().reset_index()\n",
    "participant_counts.columns = ['race_year_id', 'correct_participants']\n",
    "\n",
    "clean_df = df.copy()\n",
    "clean_df = clean_df.merge(participant_counts, on='race_year_id', how='left')\n",
    "\n",
    "\n",
    "clean_df['participants'] = clean_df.apply(\n",
    "    lambda row: row['correct_participants'] if row['participants'] == 0 and pd.notna(row['correct_participants']) else row['participants'],\n",
    "    axis=1\n",
    ")\n",
    "\n",
    "\n",
    "clean_df.drop(columns=['correct_participants'], inplace=True)\n",
    "\n",
    "\n",
    "clean_df.to_csv('updated_race.csv', index=False)"
   ]
  },
  {
   "cell_type": "code",
   "execution_count": 67,
   "id": "ef096ad2",
   "metadata": {},
   "outputs": [],
   "source": [
    "cleaned_file_path = \"ultra_rankings_cleaned.csv\"\n",
    "clean_df2.to_csv(cleaned_file_path, index=False)"
   ]
  },
  {
   "cell_type": "code",
   "execution_count": 85,
   "id": "3f5324db",
   "metadata": {},
   "outputs": [],
   "source": [
    "combined_df = pd.merge(clean_df, clean_df2, on=\"race_year_id\", how=\"inner\")"
   ]
  },
  {
   "cell_type": "code",
   "execution_count": 86,
   "id": "c84a2c6b",
   "metadata": {},
   "outputs": [],
   "source": [
    "combined_df['gender'] = combined_df['gender'].replace(0, 'Other') # extra option I found in the data"
   ]
  },
  {
   "cell_type": "code",
   "execution_count": 89,
   "id": "0835c535",
   "metadata": {},
   "outputs": [
    {
     "name": "stdout",
     "output_type": "stream",
     "text": [
      "['United Kingdom' 'France' 'Bulgaria' 'Turkey' 'Switzerland' 'Norway'\n",
      " 'Belgium' 'Canada' 'Sweden' 'Austria' 'Russia' 'United States' 'Italy'\n",
      " 'Australia' 'Finland' 'Spain' 'Romania' 'Portugal' 'Iceland' 'Poland'\n",
      " 'South Africa' 'New Zealand' 'Greece' 'China' 'Japan' 'Argentina'\n",
      " 'Costa Rica' 'Hong Kong, China' 'Indonesia' 'Israel' 'Mexico' 'Thailand'\n",
      " 'Germany' 'Denmark' 'PA, United States' 'Malaysia' 'Taiwan'\n",
      " 'LA, United States' 'Oman' 'India' 'Jordan' 'Ukraine' 'Chile' 'Colombia'\n",
      " 'Slovenia' 'Myoko, Japan' 'Hungary' 'Andorra' 'Ecuador' 'Estonia'\n",
      " 'Philippines' 'Nepal' 'Croatia' 'FL, United States' 'Ireland'\n",
      " 'Czech Republic' 'Brazil' nan 'Fiji' 'Chad' 'Singapore']\n"
     ]
    }
   ],
   "source": [
    "unique_events = combined_df['country'].unique() # same with this\n",
    "print(unique_events)"
   ]
  },
  {
   "cell_type": "code",
   "execution_count": 90,
   "id": "3c6d6a19",
   "metadata": {},
   "outputs": [
    {
     "name": "stdout",
     "output_type": "stream",
     "text": [
      "race_year_id           0\n",
      "event                  0\n",
      "race                   0\n",
      "city               15599\n",
      "country               77\n",
      "date                   0\n",
      "start_time             0\n",
      "participation          0\n",
      "distance               0\n",
      "elevation_gain         0\n",
      "elevation_loss         0\n",
      "aid_stations           0\n",
      "participants           0\n",
      "rank                   0\n",
      "runner                 0\n",
      "time                   0\n",
      "age                    0\n",
      "gender                 0\n",
      "nationality            0\n",
      "time_in_seconds        0\n",
      "dtype: int64\n"
     ]
    }
   ],
   "source": [
    "print(combined_df.isna().sum()) # getting rid of any nan countries"
   ]
  },
  {
   "cell_type": "code",
   "execution_count": 91,
   "id": "3eff01e5",
   "metadata": {},
   "outputs": [],
   "source": [
    "combined_df = combined_df.dropna(subset=['country'])"
   ]
  },
  {
   "cell_type": "code",
   "execution_count": 92,
   "id": "d4751f79",
   "metadata": {},
   "outputs": [
    {
     "name": "stdout",
     "output_type": "stream",
     "text": [
      "race_year_id        0\n",
      "event               0\n",
      "race                0\n",
      "city              172\n",
      "country             4\n",
      "date                0\n",
      "start_time          0\n",
      "participation       0\n",
      "distance            0\n",
      "elevation_gain      0\n",
      "elevation_loss      0\n",
      "aid_stations        0\n",
      "participants        0\n",
      "dtype: int64\n"
     ]
    }
   ],
   "source": [
    "print(df.isna().sum())"
   ]
  },
  {
   "cell_type": "code",
   "execution_count": 93,
   "id": "f0f3e638",
   "metadata": {},
   "outputs": [],
   "source": [
    "country_coordinates = {\n",
    "    'United Kingdom': {'lat': 55.3781, 'lon': -3.4360},\n",
    "    'France': {'lat': 46.2276, 'lon': 2.2137},\n",
    "    'Bulgaria': {'lat': 42.7339, 'lon': 25.4858},\n",
    "    'Turkey': {'lat': 38.9637, 'lon': 35.2433},\n",
    "    'Switzerland': {'lat': 46.8182, 'lon': 8.2275},\n",
    "    'Norway': {'lat': 60.4720, 'lon': 8.4689},\n",
    "    'Belgium': {'lat': 50.5039, 'lon': 4.4699},\n",
    "    'Canada': {'lat': 56.1304, 'lon': -106.3468},\n",
    "    'Sweden': {'lat': 60.1282, 'lon': 18.6435},\n",
    "    'Austria': {'lat': 47.5162, 'lon': 14.5501},\n",
    "    'Russia': {'lat': 61.5240, 'lon': 105.3188},\n",
    "    'United States': {'lat': 37.0902, 'lon': -95.7129},\n",
    "    'Italy': {'lat': 41.8719, 'lon': 12.5674},\n",
    "    'Australia': {'lat': -25.2744, 'lon': 133.7751},\n",
    "    'Finland': {'lat': 61.9241, 'lon': 25.7482},\n",
    "    'Spain': {'lat': 40.4637, 'lon': -3.7492},\n",
    "    'Romania': {'lat': 45.9432, 'lon': 24.9668},\n",
    "    'Portugal': {'lat': 39.3999, 'lon': -8.2245},\n",
    "    'Iceland': {'lat': 64.9631, 'lon': -19.0208},\n",
    "    'Poland': {'lat': 51.9194, 'lon': 19.1451},\n",
    "    'South Africa': {'lat': -30.5595, 'lon': 22.9375},\n",
    "    'Greece': {'lat': 39.0742, 'lon': 21.8243},\n",
    "    'China': {'lat': 35.8617, 'lon': 104.1954},\n",
    "    'Japan': {'lat': 36.2048, 'lon': 138.2529},\n",
    "    'Argentina': {'lat': -38.4161, 'lon': -63.6167},\n",
    "    'Costa Rica': {'lat': 9.7489, 'lon': -83.7534},\n",
    "    'New Zealand': {'lat': -40.9006, 'lon': 174.8860},\n",
    "    'Hong Kong, China': {'lat': 22.3193, 'lon': 114.1694},\n",
    "    'Indonesia': {'lat': -0.7893, 'lon': 113.9213},\n",
    "    'Israel': {'lat': 31.0461, 'lon': 34.8516},\n",
    "    'Mexico': {'lat': 23.6345, 'lon': -102.5528},\n",
    "    'Thailand': {'lat': 15.8700, 'lon': 100.9925},\n",
    "    'Germany': {'lat': 51.1657, 'lon': 10.4515},\n",
    "    'Denmark': {'lat': 56.2639, 'lon': 9.5018},\n",
    "    'Malaysia': {'lat': 4.2105, 'lon': 101.9758},\n",
    "    'Taiwan': {'lat': 23.6978, 'lon': 120.9605},\n",
    "    'Oman': {'lat': 21.4735, 'lon': 55.9754},\n",
    "    'India': {'lat': 20.5937, 'lon': 78.9629},\n",
    "    'Jordan': {'lat': 30.5852, 'lon': 36.2384},\n",
    "    'Ukraine': {'lat': 48.3794, 'lon': 31.1656},\n",
    "    'Chile': {'lat': -35.6751, 'lon': -71.5430},\n",
    "    'Colombia': {'lat': 4.5709, 'lon': -74.2973},\n",
    "    'Slovenia': {'lat': 46.1512, 'lon': 14.9955},\n",
    "    'Myoko, Japan': {'lat': 36.8910, 'lon': 138.1810},\n",
    "    'Hungary': {'lat': 47.1625, 'lon': 19.5033},\n",
    "    'Ecuador': {'lat': -1.8312, 'lon': -78.1834},\n",
    "    'Estonia': {'lat': 58.5953, 'lon': 25.0136},\n",
    "    'Philippines': {'lat': 12.8797, 'lon': 121.7740},\n",
    "    'Nepal': {'lat': 28.3949, 'lon': 84.1240},\n",
    "    'Croatia': {'lat': 45.1, 'lon': 15.2},\n",
    "    'Ireland': {'lat': 53.4129, 'lon': -8.2439},\n",
    "    'Czech Republic': {'lat': 49.8175, 'lon': 15.4730},\n",
    "    'Brazil': {'lat': -14.2350, 'lon': -51.9253},\n",
    "    'Fiji': {'lat': -17.7134, 'lon': 178.0650},\n",
    "    'Andorra': {'lat': 42.5063, 'lon': 1.5218},\n",
    "    'Chad': {'lat': 15.4542, 'lon': 18.7322},\n",
    "    'Singapore': {'lat': 1.3521, 'lon': 103.8198}\n",
    "}\n"
   ]
  },
  {
   "cell_type": "code",
   "execution_count": 96,
   "id": "26627983",
   "metadata": {},
   "outputs": [],
   "source": [
    "combined_df.loc[:, 'latitude'] = combined_df['country'].apply(lambda country: country_coordinates.get(country, {}).get('lat'))\n",
    "combined_df.loc[:, 'longitude'] = combined_df['country'].apply(lambda country: country_coordinates.get(country, {}).get('lon'))\n",
    "# need the coordinates for the map to work "
   ]
  },
  {
   "cell_type": "code",
   "execution_count": 98,
   "id": "b52e1eb1",
   "metadata": {},
   "outputs": [],
   "source": [
    "combined_df['time_in_hours'] = (combined_df['time_in_seconds'] / 3600).round(2) "
   ]
  },
  {
   "cell_type": "code",
   "execution_count": 102,
   "id": "3c554baf",
   "metadata": {},
   "outputs": [],
   "source": [
    "combined_df['event_id'] = combined_df['event'] + ' - ' + combined_df['date'].astype(str) + ' - ' + combined_df['country'] #attempted a fix"
   ]
  },
  {
   "cell_type": "code",
   "execution_count": 113,
   "id": "b1c71176",
   "metadata": {
    "scrolled": false
   },
   "outputs": [],
   "source": [
    "combined_df2 = combined_df.copy()\n",
    "combined_df2['event'] = combined_df['event'] + ' - ' + combined_df['date'].astype(str) + ' - ' + combined_df['country'] #attempted a fix"
   ]
  },
  {
   "cell_type": "code",
   "execution_count": 114,
   "id": "96b412ee",
   "metadata": {},
   "outputs": [],
   "source": [
    "combined_df2.to_csv(\"combined_data_6.csv\", index=False)"
   ]
  },
  {
   "cell_type": "code",
   "execution_count": null,
   "id": "819a3339",
   "metadata": {},
   "outputs": [],
   "source": []
  }
 ],
 "metadata": {
  "kernelspec": {
   "display_name": "Python 3 (ipykernel)",
   "language": "python",
   "name": "python3"
  },
  "language_info": {
   "codemirror_mode": {
    "name": "ipython",
    "version": 3
   },
   "file_extension": ".py",
   "mimetype": "text/x-python",
   "name": "python",
   "nbconvert_exporter": "python",
   "pygments_lexer": "ipython3",
   "version": "3.11.5"
  }
 },
 "nbformat": 4,
 "nbformat_minor": 5
}
